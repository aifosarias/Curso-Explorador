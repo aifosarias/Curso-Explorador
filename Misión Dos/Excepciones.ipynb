{
 "cells": [
  {
   "cell_type": "code",
   "execution_count": 3,
   "metadata": {},
   "outputs": [
    {
     "name": "stdout",
     "output_type": "stream",
     "text": [
      "20\n"
     ]
    }
   ],
   "source": [
    "def multiplicar(numero):\n",
    "    return numero*2\n",
    "\n",
    "n = 10\n",
    "n = multiplicar(n)\n",
    "print(n)"
   ]
  },
  {
   "cell_type": "code",
   "execution_count": 5,
   "metadata": {},
   "outputs": [
    {
     "name": "stdout",
     "output_type": "stream",
     "text": [
      "[20, 100, 200]\n"
     ]
    }
   ],
   "source": [
    "def multiplicar(numeros):\n",
    "    for i,n in enumerate(numeros):\n",
    "        numeros[i] *= 2\n",
    "ns = [10,50,100]\n",
    "multiplicar(ns[:])\n",
    "print(ns)"
   ]
  },
  {
   "cell_type": "code",
   "execution_count": 7,
   "metadata": {},
   "outputs": [
    {
     "name": "stdout",
     "output_type": "stream",
     "text": [
      "5\n",
      "Hola\n",
      "[1, 2, 3, 4, 5]\n"
     ]
    }
   ],
   "source": [
    "def indeterminados_posicion(*args):\n",
    "\n",
    "    for arg in args:\n",
    "        print(arg)\n",
    "\n",
    "indeterminados_posicion(5,\"Hola\",[1,2,3,4,5])"
   ]
  },
  {
   "cell_type": "code",
   "execution_count": 15,
   "metadata": {},
   "outputs": [
    {
     "name": "stdout",
     "output_type": "stream",
     "text": [
      "[1, 7, 3, 4, 5, 'Hola', 1.8]\n"
     ]
    }
   ],
   "source": [
    "# lista = [1,2,3,4,5]\n",
    "\n",
    "# lista[1]=7\n",
    "# print(lista)\n",
    "\n",
    "tupla =(1,2,3,4,5,\"Hola\",1.8)\n",
    "lista_dos = list(tupla)\n",
    "\n",
    "lista_dos[1]= 7\n",
    "\n",
    "tupla_dos = tupla(lista_dos)\n",
    "\n",
    "print(lista_dos)\n",
    "# diccionario = {'Clave':15}"
   ]
  },
  {
   "cell_type": "code",
   "execution_count": 10,
   "metadata": {},
   "outputs": [
    {
     "name": "stdout",
     "output_type": "stream",
     "text": [
      "{'n': 5, 'c': 'hola', 'l': [1, 2, 3, 4, 5]}\n"
     ]
    }
   ],
   "source": [
    "def indeterminados_nombre(**kwargs):\n",
    "    print(kwargs)\n",
    "\n",
    "indeterminados_nombre(n=5,c=\"hola\",l=[1,2,3,4,5])\n"
   ]
  },
  {
   "cell_type": "code",
   "execution_count": 21,
   "metadata": {},
   "outputs": [
    {
     "name": "stdout",
     "output_type": "stream",
     "text": [
      "La suma es 15\n"
     ]
    }
   ],
   "source": [
    "def indeterminados_nombre(**kwargs):\n",
    "    lista = kwargs[\"l\"]\n",
    "    suma =0\n",
    "    for i in lista:\n",
    "        suma += i\n",
    "    print(f\"La suma es {suma}\")\n",
    "        \n",
    "indeterminados_nombre(n=5,c=\"hola\",l=[1,2,3,4,5])"
   ]
  },
  {
   "cell_type": "code",
   "execution_count": 23,
   "metadata": {},
   "outputs": [
    {
     "name": "stdout",
     "output_type": "stream",
     "text": [
      "n => 5\n",
      "c => hola\n",
      "l => 15\n"
     ]
    }
   ],
   "source": [
    "def indeterminados_nombre(**kwargs):\n",
    "    for clave in kwargs:\n",
    "        if type(kwargs[clave]) == list:\n",
    "            sum = 0\n",
    "            for i in kwargs[clave]:\n",
    "                sum += i\n",
    "            print(clave, \"=>\", sum)\n",
    "            continue\n",
    "        print(clave, \"=>\", kwargs[clave])\n",
    "        \n",
    "indeterminados_nombre(n=5,c=\"hola\",l=[1,2,3,4,5])"
   ]
  },
  {
   "cell_type": "code",
   "execution_count": 24,
   "metadata": {},
   "outputs": [
    {
     "name": "stdout",
     "output_type": "stream",
     "text": [
      "sumatorio =>  390.56\n",
      "nombre => Hector\n",
      "edad => 27\n"
     ]
    }
   ],
   "source": [
    "def super_funcion(*args,**kwargs): \n",
    "\ttotal = 0 \n",
    "\tfor arg in args: \n",
    "\t\ttotal += arg \n",
    "\tprint(\"sumatorio => \", total) \n",
    "\tfor kwarg in kwargs:\n",
    "\t\t print(kwarg, \"=>\", kwargs[kwarg]) \n",
    "\n",
    "super_funcion(10, 50, -1, 1.56, 10, 20, 300, nombre=\"Hector\", edad=27)\n"
   ]
  },
  {
   "cell_type": "code",
   "execution_count": 29,
   "metadata": {},
   "outputs": [
    {
     "name": "stdout",
     "output_type": "stream",
     "text": [
      "sumatorio =>  390.56\n",
      "Nombre => Hector\n",
      "nombre => Hector\n",
      "edad => 27\n"
     ]
    }
   ],
   "source": [
    "def super_funcion(*args, **kwargs): \n",
    "    total = 0 \n",
    "    for arg in args: \n",
    "        total += arg \n",
    "    print(\"sumatorio => \", total) \n",
    "\n",
    "    if 'nombre' in kwargs:\n",
    "        print(\"Nombre =>\", kwargs['nombre'])\n",
    "\n",
    "    for kwarg in kwargs:\n",
    "        print(kwarg, \"=>\", kwargs[kwarg]) \n",
    "\n",
    "super_funcion(10, 50, -1, 1.56, 10, 20, 300, nombre=\"Hector\", edad=27)\n",
    "\n",
    "\n",
    "\n"
   ]
  },
  {
   "cell_type": "code",
   "execution_count": 44,
   "metadata": {},
   "outputs": [
    {
     "name": "stdout",
     "output_type": "stream",
     "text": [
      "sumatorio =>  390.56\n",
      "Edad1 => Hector\n",
      "Edad2 => 27\n",
      "['Edad1', 'Edad2']\n"
     ]
    }
   ],
   "source": [
    "def super_funcion(*args, **kwargs): \n",
    "\n",
    "    total = 0 \n",
    "    for arg in args: \n",
    "        total += arg \n",
    "    print(\"sumatorio => \", total) \n",
    "\n",
    "    for kwarg in kwargs:\n",
    "        print(kwarg, \"=>\", kwargs[kwarg])  # Imprime solo la clave, sin el valor\n",
    "    return kwargs\n",
    "\n",
    "clave = super_funcion(10, 50, -1, 1.56, 10, 20, 300, Edad1=\"Hector\", Edad2=27)\n",
    "nombre_clave = [key for key in clave.keys()]\n",
    "print(nombre_clave)"
   ]
  },
  {
   "cell_type": "code",
   "execution_count": 46,
   "metadata": {},
   "outputs": [
    {
     "name": "stdout",
     "output_type": "stream",
     "text": [
      "Edad1\n",
      "Edad2\n"
     ]
    }
   ],
   "source": [
    "def super_funcion(*args, **kwargs): \n",
    "    for i in kwargs.keys():\n",
    "        print(i)\n",
    "\n",
    "\n",
    "super_funcion(10, 50, -1, 1.56, 10, 20, 300, Edad1=\"Hector\", Edad2=27)\n"
   ]
  }
 ],
 "metadata": {
  "kernelspec": {
   "display_name": "Python 3",
   "language": "python",
   "name": "python3"
  },
  "language_info": {
   "codemirror_mode": {
    "name": "ipython",
    "version": 3
   },
   "file_extension": ".py",
   "mimetype": "text/x-python",
   "name": "python",
   "nbconvert_exporter": "python",
   "pygments_lexer": "ipython3",
   "version": "3.9.6"
  }
 },
 "nbformat": 4,
 "nbformat_minor": 2
}
