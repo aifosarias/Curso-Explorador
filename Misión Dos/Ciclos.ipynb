{
  "cells": [
    {
      "cell_type": "code",
      "execution_count": null,
      "metadata": {
        "colab": {
          "base_uri": "https://localhost:8080/"
        },
        "id": "rXYaNQS4gNPe",
        "outputId": "84530ac9-580b-4783-c847-b8d46266cc34"
      },
      "outputs": [
        {
          "name": "stdout",
          "output_type": "stream",
          "text": [
            "El exponente de 10 es: 100\n",
            "El exponente de 9 es: 81\n",
            "El exponente de 8 es: 64\n",
            "El exponente de 7 es: 49\n",
            "El exponente de 6 es: 36\n",
            "El exponente de 5 es: 25\n",
            "El exponente de 4 es: 16\n",
            "El exponente de 3 es: 9\n",
            "El bucle ha finalizado\n"
          ]
        }
      ],
      "source": [
        "\n",
        "# cadena  = [\"Lunes\",\"Martes\",'Miercoles']\n",
        "# #Identación\n",
        "# #Sección uno del libro\n",
        "# for i in cadena:\n",
        "#   print(i)\n",
        "#   # f(format)\n",
        "#   print(f\"su es nombre es {i}\")\n",
        "# #sección dos\n",
        "# print(\"Fuera de ciclo for\")\n",
        "\n",
        "for i in range(10,2,-1):\n",
        "  print(f\"El exponente de {i} es: {i**2}\")\n",
        "print(\"El bucle ha finalizado\")\n"
      ]
    },
    {
      "cell_type": "code",
      "execution_count": null,
      "metadata": {
        "colab": {
          "base_uri": "https://localhost:8080/"
        },
        "id": "560zt1LOmE30",
        "outputId": "b21f193b-ce10-488f-96b1-68a1810412e7"
      },
      "outputs": [
        {
          "name": "stdout",
          "output_type": "stream",
          "text": [
            "lunes\n",
            "Día de la semana\n",
            "martes\n",
            "Día de la semana\n",
            "miercoles\n",
            "Día de la semana\n",
            "jueves\n",
            "Día de la semana\n",
            "viernes\n",
            "Día de la semana\n",
            "sabado\n",
            "Día de la semana\n",
            "domingo\n",
            "Día de la semana\n"
          ]
        }
      ],
      "source": [
        "\n",
        "# Bucle for (para)\n",
        "cadena = [\"lunes\", \"martes\", \"miercoles\", \"jueves\", \"viernes\", \"sabado\", \"domingo\"]\n",
        "for i in cadena:\n",
        "  print(i)\n",
        "  print(\"Día de la semana\")"
      ]
    },
    {
      "cell_type": "code",
      "execution_count": 1,
      "metadata": {
        "colab": {
          "base_uri": "https://localhost:8080/"
        },
        "id": "65Dvpj1CpnTn",
        "outputId": "7b144d50-2bd8-493f-8b25-05c38be8df50"
      },
      "outputs": [
        {
          "name": "stdout",
          "output_type": "stream",
          "text": [
            "su nombre es sayad\n",
            "su nombre es kate\n",
            "su nombre es cris\n",
            "su nombre es jhon\n"
          ]
        }
      ],
      "source": [
        "cadena =[\"sayad\", \"kate\", \"cris\", \"jhon\"]\n",
        "for i in cadena:\n",
        "    print(f\"su nombre es {i}\")"
      ]
    },
    {
      "cell_type": "code",
      "execution_count": null,
      "metadata": {
        "colab": {
          "base_uri": "https://localhost:8080/"
        },
        "id": "V54G_YOSqBZ5",
        "outputId": "72ea2534-abdb-404e-919b-4f3778ea0e6f"
      },
      "outputs": [
        {
          "name": "stdout",
          "output_type": "stream",
          "text": [
            "se cumple la condicion\n",
            "el bucle While finalizo\n"
          ]
        }
      ],
      "source": [
        "a = \"a\"\n",
        "while a == \"a\":\n",
        "  print(\"se cumple la condicion\")\n",
        "  break\n",
        "\n",
        "\n",
        "print(\"el bucle While finalizo\")"
      ]
    },
    {
      "cell_type": "code",
      "execution_count": null,
      "metadata": {
        "colab": {
          "base_uri": "https://localhost:8080/"
        },
        "id": "EGcXtXTyz1B4",
        "outputId": "ff4e2c9c-3c55-4bd4-f978-78b354c9a1a7"
      },
      "outputs": [
        {
          "name": "stdout",
          "output_type": "stream",
          "text": [
            "El exponente de 0 es: 0\n",
            "El exponente de 1 es: 1\n",
            "El exponente de 2 es: 4\n",
            "El exponente de 3 es: 9\n",
            "El bucle ha finalizado\n"
          ]
        }
      ],
      "source": [
        "# i es una variable local\n",
        "for u in range(0,10):\n",
        "  print(f\"El exponente de {u} es: {u**2}\")\n",
        "  if u == 3:\n",
        "    break\n",
        "\n",
        "print(\"El bucle ha finalizado\")"
      ]
    },
    {
      "cell_type": "code",
      "execution_count": null,
      "metadata": {
        "colab": {
          "base_uri": "https://localhost:8080/"
        },
        "id": "WGTJ8ub04srJ",
        "outputId": "401c9902-f928-4f3e-8c2f-64e4e7a220bf"
      },
      "outputs": [
        {
          "name": "stdout",
          "output_type": "stream",
          "text": [
            "El exponente de 1 es: 1\n",
            "El exponente de 3 es: 9\n",
            "El exponente de 5 es: 25\n",
            "El exponente de 7 es: 49\n",
            "El bucle ha finalizado\n"
          ]
        }
      ],
      "source": [
        "for i in range(0,9):\n",
        "  if i % 2 == 0:\n",
        "    continue\n",
        "  print(f\"El exponente de {i} es: {i**2}\")\n",
        "\n",
        "print(\"El bucle ha finalizado\")"
      ]
    },
    {
      "cell_type": "code",
      "execution_count": null,
      "metadata": {
        "colab": {
          "base_uri": "https://localhost:8080/"
        },
        "id": "iAW74Wkf58s2",
        "outputId": "e87117ac-ed08-4127-c465-31080b390d75"
      },
      "outputs": [
        {
          "data": {
            "text/plain": [
              "0"
            ]
          },
          "execution_count": 89,
          "metadata": {},
          "output_type": "execute_result"
        }
      ],
      "source": [
        "0 % 2"
      ]
    },
    {
      "cell_type": "markdown",
      "metadata": {
        "id": "FysRQPO5ns8w"
      },
      "source": [
        "FUNCIONES"
      ]
    },
    {
      "cell_type": "code",
      "execution_count": null,
      "metadata": {
        "colab": {
          "base_uri": "https://localhost:8080/"
        },
        "id": "uNsJlPj5n_S0",
        "outputId": "3b764a6b-eed4-4326-e638-94910aadcf44"
      },
      "outputs": [
        {
          "name": "stdout",
          "output_type": "stream",
          "text": [
            "Se cumple la condición\n"
          ]
        }
      ],
      "source": [
        "#Programación estructurada\n",
        "#def(funcion), nombre y realizar una tarea\n",
        "def comparar_letras(caracter,comparacion):\n",
        "  while caracter == comparacion:\n",
        "    print(\"Se cumple la condición\")\n",
        "    break\n",
        "\n",
        "caracter = \"Claudia\"\n",
        "comparacion = \"Claudia\"\n",
        "\n",
        "#Invocar una función (con el nombre de la función)\n",
        "# Pasar los argumentos (caracter, comparacion)\n",
        "comparar_letras(caracter,comparacion)\n"
      ]
    },
    {
      "cell_type": "code",
      "execution_count": 3,
      "metadata": {
        "colab": {
          "base_uri": "https://localhost:8080/"
        },
        "id": "UNz673v7sVrB",
        "outputId": "3b985a20-18ac-4691-fcea-47225276a721"
      },
      "outputs": [
        {
          "name": "stdout",
          "output_type": "stream",
          "text": [
            "El exponente de 9 es: 81\n"
          ]
        }
      ],
      "source": [
        "def comparar_numeros(inicio,fin,divisor):\n",
        "  for i in range(inicio,fin):\n",
        "    if i % divisor == 0:\n",
        "      continue\n",
        "  print(f\"El exponente de {i} es: {i**2}\")\n",
        "# Posicion en una lista[0,1,2]\n",
        "inicio = [1,2,3]\n",
        "fin = [10,100,200]\n",
        "divisor = [2,3,4]\n",
        "\n",
        "comparar_numeros(inicio[1],fin[0],divisor[2])\n",
        "\n"
      ]
    },
    {
      "cell_type": "code",
      "execution_count": 2,
      "metadata": {
        "colab": {
          "base_uri": "https://localhost:8080/"
        },
        "id": "cM5dKExAvhCf",
        "outputId": "9671eb9e-32b9-4033-a24e-3a976920c9e4"
      },
      "outputs": [
        {
          "name": "stdout",
          "output_type": "stream",
          "text": [
            "9\n"
          ]
        }
      ],
      "source": [
        "def sumar(numero_uno,numero_dos):\n",
        "  suma = numero_uno+numero_dos\n",
        "  print(suma)\n",
        "\n",
        "numero_uno = [1,2,3,4,5,7,8,9]\n",
        "numero_dos = [4,5,6,7,8,9,10,11]\n",
        "\n",
        "sumar(numero_uno[1],numero_dos[3])\n",
        "\n",
        "\n"
      ]
    },
    {
      "cell_type": "code",
      "execution_count": null,
      "metadata": {
        "colab": {
          "base_uri": "https://localhost:8080/"
        },
        "id": "V2yKyVEExpzA",
        "outputId": "06a4e4ce-87c0-4f8d-aaa0-133f1df4e83d"
      },
      "outputs": [
        {
          "name": "stdout",
          "output_type": "stream",
          "text": [
            "texto\n",
            "el valor de la suma es: 112\n"
          ]
        }
      ],
      "source": [
        "\n",
        "#Seccion uno\n",
        "def suma(sumar_numeros,Lista_uno):\n",
        "  #seccion 1.1\n",
        "  for i in Lista_uno:\n",
        "    #seccion 1.1.1\n",
        "    sumar_numeros += i\n",
        "    #seccion 1.1.2\n",
        "  print(f\"el valor de la suma es: {sumar_numeros}\")\n",
        "#Seccion dos\n",
        "print(\"texto\")\n",
        "\n",
        "Lista_uno = [1,2,3,4,5,8,15,20,54]\n",
        "sumar_numeros = 0\n",
        "\n",
        "suma(sumar_numeros,Lista_uno)\n",
        "\n",
        "\n"
      ]
    },
    {
      "cell_type": "code",
      "execution_count": null,
      "metadata": {
        "colab": {
          "base_uri": "https://localhost:8080/"
        },
        "id": "12KRaubz83JA",
        "outputId": "5514ef1e-186e-436e-daee-8bdac7d8a617"
      },
      "outputs": [
        {
          "name": "stdout",
          "output_type": "stream",
          "text": [
            "10\n"
          ]
        }
      ],
      "source": [
        "def multiplicar(n):\n",
        "  n*= 2\n",
        "  # print(n)\n",
        "\n",
        "n = 10\n",
        "multiplicar(n)\n",
        "print(n)\n",
        "\n",
        "def operacion(ns):\n",
        "  return ns*5\n",
        "\n",
        "ns = 5\n",
        "ns = operacion(ns)\n",
        "print(ns)\n",
        "\n",
        "\n"
      ]
    },
    {
      "cell_type": "code",
      "execution_count": null,
      "metadata": {
        "colab": {
          "base_uri": "https://localhost:8080/"
        },
        "id": "sPcs8D1nAILA",
        "outputId": "6c36149a-0e83-4d05-e716-82b55e046e01"
      },
      "outputs": [
        {
          "name": "stdout",
          "output_type": "stream",
          "text": [
            "[10, 50, 100]\n",
            "[20, 100, 200]\n"
          ]
        }
      ],
      "source": [
        "def multiplicar(ns):\n",
        "  for i,j in enumerate(ns):\n",
        "    ns[i] *= 2\n",
        "    return ns\n",
        "\n",
        "ns =[10,50,100]\n",
        "\n",
        "cp = multiplicar(ns[:])\n",
        "print(ns)\n",
        "print([20,100,200])\n"
      ]
    },
    {
      "cell_type": "code",
      "execution_count": 10,
      "metadata": {},
      "outputs": [
        {
          "name": "stdout",
          "output_type": "stream",
          "text": [
            "(14, 15, 16)\n",
            "[12, 15, 16]\n",
            "{'nombre': 12}\n"
          ]
        }
      ],
      "source": [
        "n = (14,15,16)\n",
        "m = [14,15,16]\n",
        "print(n)\n",
        "m[0] =12\n",
        "print(m)\n",
        "\n",
        "dicionario = {\"nombre\":12}\n",
        "print(dicionario)"
      ]
    },
    {
      "cell_type": "code",
      "execution_count": 11,
      "metadata": {},
      "outputs": [
        {
          "name": "stdout",
          "output_type": "stream",
          "text": [
            "Clave: clave1, Valor: nuevo_valor1\n",
            "Clave: clave3, Valor: valor3\n",
            "Clave: clave4, Valor: valor4\n"
          ]
        }
      ],
      "source": [
        "# Creación de un diccionario\n",
        "mi_diccionario = {'clave1': 'valor1', 'clave2': 'valor2', 'clave3': 'valor3'}\n",
        "\n",
        "# Acceso a un valor mediante su clave\n",
        "valor = mi_diccionario['clave1']  # Salida: 'valor1'\n",
        "\n",
        "# Agregar un nuevo par clave-valor\n",
        "mi_diccionario['clave4'] = 'valor4'\n",
        "\n",
        "# Modificar un valor existente\n",
        "mi_diccionario['clave1'] = 'nuevo_valor1'\n",
        "\n",
        "# Eliminar un par clave-valor\n",
        "del mi_diccionario['clave2']\n",
        "\n",
        "# Iterar sobre las claves y valores\n",
        "for clave, valor in mi_diccionario.items():\n",
        "    print(f\"Clave: {clave}, Valor: {valor}\")\n"
      ]
    }
  ],
  "metadata": {
    "colab": {
      "provenance": []
    },
    "kernelspec": {
      "display_name": "Python 3",
      "name": "python3"
    },
    "language_info": {
      "codemirror_mode": {
        "name": "ipython",
        "version": 3
      },
      "file_extension": ".py",
      "mimetype": "text/x-python",
      "name": "python",
      "nbconvert_exporter": "python",
      "pygments_lexer": "ipython3",
      "version": "3.9.6"
    }
  },
  "nbformat": 4,
  "nbformat_minor": 0
}
