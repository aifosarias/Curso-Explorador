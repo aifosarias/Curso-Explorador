{
 "cells": [
  {
   "cell_type": "code",
   "execution_count": 1,
   "metadata": {},
   "outputs": [],
   "source": [
    "class Persona:\n",
    "    def __init__(self, nombre, edad):\n",
    "        self.nombre = nombre  # Atributo\n",
    "        self.edad = edad      # Atributo\n",
    "\n",
    "    def saludar(self):\n",
    "        return f\"Hola, mi nombre es {self.nombre} y tengo {self.edad} años.\"\n"
   ]
  },
  {
   "cell_type": "code",
   "execution_count": 13,
   "metadata": {},
   "outputs": [
    {
     "name": "stdout",
     "output_type": "stream",
     "text": [
      "Hola, mi nombre es Juan y tengo 30 años.\n",
      "Hola, mi nombre es Ana y tengo 25 años.\n"
     ]
    }
   ],
   "source": [
    "persona1 = Persona(\"Juan\", 30)\n",
    "persona2 = Persona(\"Ana\", 25)\n",
    "\n",
    "print(persona1.saludar())\n",
    "print(persona2.saludar())\n"
   ]
  },
  {
   "cell_type": "markdown",
   "metadata": {},
   "source": [
    "# Encapsulamiento\n",
    "El encapsulamiento se refiere a la práctica de ocultar los detalles internos de una clase y proporcionar métodos públicos para acceder y modificar esos detalles. Esto ayuda a proteger los datos y asegura que los objetos se usen de manera controlada."
   ]
  },
  {
   "cell_type": "code",
   "execution_count": 6,
   "metadata": {},
   "outputs": [
    {
     "name": "stdout",
     "output_type": "stream",
     "text": [
      "Saldo inicial: 1000\n",
      "Después de depositar 500, saldo: 1500\n",
      "Después de retirar 200, saldo: 1300\n",
      "Saldo insuficiente\n",
      "Después de intentar retirar 2000, saldo: 1300\n"
     ]
    }
   ],
   "source": [
    "# Definición de la clase CuentaBancaria\n",
    "class CuentaBancaria:\n",
    "    def __init__(self, saldo):\n",
    "        self.__saldo = saldo  # Atributo privado\n",
    "\n",
    "    def depositar(self, monto):\n",
    "        self.__saldo += monto\n",
    "\n",
    "    def retirar(self, monto):\n",
    "        if monto <= self.__saldo:\n",
    "            self.__saldo -= monto\n",
    "        else:\n",
    "            print(\"Saldo insuficiente\")\n",
    "\n",
    "    def obtener_saldo(self):\n",
    "        return self.__saldo\n",
    "\n",
    "# Uso del programa\n",
    "def main():\n",
    "    # Crear una instancia de CuentaBancaria con un saldo inicial de 1000\n",
    "    mi_cuenta = CuentaBancaria(1000)\n",
    "    \n",
    "    # Imprimir el saldo inicial\n",
    "    print(f\"Saldo inicial: {mi_cuenta.obtener_saldo()}\")\n",
    "\n",
    "    # Depositar 500\n",
    "    mi_cuenta.depositar(500)\n",
    "    print(f\"Después de depositar 500, saldo: {mi_cuenta.obtener_saldo()}\")\n",
    "\n",
    "    # Retirar 200\n",
    "    mi_cuenta.retirar(200)\n",
    "    print(f\"Después de retirar 200, saldo: {mi_cuenta.obtener_saldo()}\")\n",
    "\n",
    "    # Intentar retirar 2000 (más de lo que hay en la cuenta)\n",
    "    mi_cuenta.retirar(2000)\n",
    "    print(f\"Después de intentar retirar 2000, saldo: {mi_cuenta.obtener_saldo()}\")\n",
    "\n",
    "# Llamar a la función principal\n",
    "if __name__ == \"__main__\":\n",
    "    main()\n"
   ]
  },
  {
   "cell_type": "markdown",
   "metadata": {},
   "source": [
    "# Herencia\n",
    "La herencia permite crear una nueva clase basada en una clase existente. La nueva clase (clase hija) hereda atributos y métodos de la clase existente (clase base)."
   ]
  },
  {
   "cell_type": "code",
   "execution_count": 14,
   "metadata": {},
   "outputs": [
    {
     "name": "stdout",
     "output_type": "stream",
     "text": [
      "Luks dice Guau\n",
      "Tony dice Miau\n"
     ]
    }
   ],
   "source": [
    "class Animal:\n",
    "    def __init__(self, nombre):\n",
    "        self.nombre = nombre\n",
    "\n",
    "    def hacer_sonido(self):\n",
    "        raise NotImplementedError(\"Este método debe ser implementado por subclases\")\n",
    "\n",
    "class Perro(Animal):\n",
    "    def hacer_sonido(self):\n",
    "        return \"Guau\"\n",
    "\n",
    "class Gato(Animal):\n",
    "    def hacer_sonido(self):\n",
    "        return \"Miau\"\n",
    "\n",
    "def main():\n",
    "    # Crear instancias de Perro y Gato\n",
    "    mi_perro = Perro(\"Luks\")\n",
    "    mi_gato = Gato(\"Tony\")\n",
    "    \n",
    "    # Llamar a los métodos hacer_sonido y mostrar resultados\n",
    "    print(f\"{mi_perro.nombre} dice {mi_perro.hacer_sonido()}\")\n",
    "    print(f\"{mi_gato.nombre} dice {mi_gato.hacer_sonido()}\")\n",
    "\n",
    "# Llamar a la función principal\n",
    "if __name__ == \"__main__\":\n",
    "    main()\n"
   ]
  },
  {
   "cell_type": "markdown",
   "metadata": {},
   "source": [
    "# Polimorfismo\n",
    "El polimorfismo permite que objetos de diferentes clases sean tratados como objetos de una clase común. Esto se utiliza principalmente cuando las clases comparten una interfaz común (es decir, métodos con el mismo nombre)."
   ]
  },
  {
   "cell_type": "code",
   "execution_count": null,
   "metadata": {},
   "outputs": [],
   "source": [
    "animales = [Perro(\"Firulais\"), Gato(\"Michi\")]\n",
    "\n",
    "for animal in animales:\n",
    "    print(f\"{animal.nombre} dice {animal.hacer_sonido()}\")\n"
   ]
  },
  {
   "cell_type": "markdown",
   "metadata": {},
   "source": [
    "# Abstracción\n",
    "La abstracción se refiere a la práctica de ocultar los detalles de implementación y mostrar solo la funcionalidad esencial. Se puede lograr mediante clases abstractas y métodos abstractos."
   ]
  },
  {
   "cell_type": "code",
   "execution_count": null,
   "metadata": {},
   "outputs": [],
   "source": [
    "from abc import ABC, abstractmethod\n",
    "\n",
    "class Figura(ABC):\n",
    "    @abstractmethod\n",
    "    def area(self):\n",
    "        pass\n",
    "\n",
    "class Circulo(Figura):\n",
    "    def __init__(self, radio):\n",
    "        self.radio = radio\n",
    "\n",
    "    def area(self):\n",
    "        return 3.14 * (self.radio ** 2)\n",
    "\n",
    "class Rectangulo(Figura):\n",
    "    def __init__(self, ancho, alto):\n",
    "        self.ancho = ancho\n",
    "        self.alto = alto\n",
    "\n",
    "    def area(self):\n",
    "        return self.ancho * self.alto\n"
   ]
  },
  {
   "cell_type": "markdown",
   "metadata": {},
   "source": [
    "# Composición\n",
    "La composición es una forma de reutilización de código en la que una clase contiene objetos de otra clase en lugar de heredar de ellos. Se utiliza para modelar relaciones \"tiene un\"."
   ]
  },
  {
   "cell_type": "code",
   "execution_count": null,
   "metadata": {},
   "outputs": [],
   "source": [
    "class Motor:\n",
    "    def encender(self):\n",
    "        print(\"El motor se ha encendido\")\n",
    "\n",
    "class Coche:\n",
    "    def __init__(self):\n",
    "        self.motor = Motor()  # Composición\n",
    "\n",
    "    def arrancar(self):\n",
    "        self.motor.encender()\n",
    "        print(\"El coche está en marcha\")\n"
   ]
  },
  {
   "cell_type": "markdown",
   "metadata": {},
   "source": [
    "# Métodos y Atributos Estáticos\n",
    "Los métodos y atributos estáticos pertenecen a la clase en lugar de a una instancia de la clase. Se usan cuando una función o un dato es independiente del estado de las instancias."
   ]
  },
  {
   "cell_type": "code",
   "execution_count": null,
   "metadata": {},
   "outputs": [],
   "source": [
    "class Calculadora:\n",
    "    @staticmethod\n",
    "    def sumar(a, b):\n",
    "        return a + b\n",
    "\n",
    "print(Calculadora.sumar(5, 3))\n"
   ]
  }
 ],
 "metadata": {
  "kernelspec": {
   "display_name": "Python 3",
   "language": "python",
   "name": "python3"
  },
  "language_info": {
   "codemirror_mode": {
    "name": "ipython",
    "version": 3
   },
   "file_extension": ".py",
   "mimetype": "text/x-python",
   "name": "python",
   "nbconvert_exporter": "python",
   "pygments_lexer": "ipython3",
   "version": "3.9.6"
  }
 },
 "nbformat": 4,
 "nbformat_minor": 2
}
